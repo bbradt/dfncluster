{
 "cells": [
  {
   "cell_type": "code",
   "execution_count": 165,
   "metadata": {},
   "outputs": [],
   "source": [
    "%matplotlib inline"
   ]
  },
  {
   "cell_type": "code",
   "execution_count": 166,
   "metadata": {},
   "outputs": [],
   "source": [
    "import os\n",
    "import sys\n",
    "import abc\n",
    "import inspect\n",
    "import argparse\n",
    "import numpy as np\n",
    "import pandas as pd\n",
    "import sklearn.datasets as skd\n",
    "import sklearn.cluster as skc\n",
    "import sklearn.metrics as skm\n",
    "import scipy\n",
    "import matplotlib.pyplot as plt\n",
    "import seaborn as sns\n",
    "import warnings\n",
    "import sklearn"
   ]
  },
  {
   "cell_type": "code",
   "execution_count": 167,
   "metadata": {},
   "outputs": [],
   "source": [
    "from sklearn.cluster import KMeans\n",
    "from sklearn.mixture import GaussianMixture\n",
    "from sklearn.decomposition import PCA\n",
    "from sklearn import preprocessing\n",
    "from sklearn.metrics.cluster import adjusted_rand_score\n",
    "from sklearn import metrics\n",
    "from scipy.spatial.distance import cdist\n",
    "from copy import deepcopy\n",
    "from matplotlib.patches import Ellipse"
   ]
  },
  {
   "cell_type": "code",
   "execution_count": 168,
   "metadata": {},
   "outputs": [],
   "source": [
    "module_path = os.path.abspath(os.path.join('.'))\n",
    "if module_path not in sys.path:\n",
    "    sys.path.append(module_path)\n",
    "module_path = os.path.abspath(os.path.join('./..'))\n",
    "if module_path not in sys.path:\n",
    "    sys.path.append(module_path)\n",
    "module_path = os.path.abspath(os.path.join('./../..'))\n",
    "if module_path not in sys.path:\n",
    "    sys.path.append(module_path)\n",
    "module_path = os.path.abspath(os.path.join('./../../..'))\n",
    "if module_path not in sys.path:\n",
    "    sys.path.append(module_path)"
   ]
  },
  {
   "cell_type": "code",
   "execution_count": 169,
   "metadata": {},
   "outputs": [],
   "source": [
    "# warnings.filterwarnings(\"ignore\")"
   ]
  },
  {
   "cell_type": "code",
   "execution_count": 170,
   "metadata": {},
   "outputs": [],
   "source": [
    "from dfncluster.dFNC import dFNC\n",
    "from dfncluster.Classifiers import Polyssifier\n",
    "from dfncluster.Clusterer import KMeansClusterer,Clusterer\n",
    "from dfncluster.Dataset import FNCDataset"
   ]
  },
  {
   "cell_type": "code",
   "execution_count": 171,
   "metadata": {},
   "outputs": [],
   "source": [
    "from data.SklearnDatasets import Iris, Classification, MNIST, Moons"
   ]
  },
  {
   "cell_type": "code",
   "execution_count": 172,
   "metadata": {},
   "outputs": [
    {
     "name": "stdout",
     "output_type": "stream",
     "text": [
      "metrics: calinksi_harabaz,davies_bouldin,silhouette\n",
      "load_iris\n",
      "Feature Shape (150, 4)\n",
      "Label Shape (150, 1)\n"
     ]
    }
   ],
   "source": [
    "ALLOWED_KWARGS = [\n",
    "    'n_clusters',\n",
    "    'init',\n",
    "    'n_init',\n",
    "    'max_iter',\n",
    "    'tol',\n",
    "    'precompute_distances',\n",
    "    'verbose',\n",
    "    'random_state',\n",
    "    'copy_x',\n",
    "    'n_jobs',\n",
    "    'algorithm'\n",
    "]\n",
    "DATASETS = dict(\n",
    "    iris=Iris.make,\n",
    "    classification=Classification.make,\n",
    "    mnist=MNIST.make,\n",
    "    moons=Moons.make\n",
    ")\n",
    "METRICS = [\n",
    "    'calinksi_harabaz',\n",
    "    'davies_bouldin',\n",
    "    'silhouette',\n",
    "    # 'mean_euclid',\n",
    "    # 'mean_city',\n",
    "]\n",
    "metrics=\",\".join(METRICS)\n",
    "print(\"metrics:\",metrics)\n",
    "dataset='iris'\n",
    "dataset = DATASETS[dataset.lower()]()"
   ]
  },
  {
   "cell_type": "code",
   "execution_count": 173,
   "metadata": {},
   "outputs": [
    {
     "name": "stdout",
     "output_type": "stream",
     "text": [
      "dataset: <dfncluster.Dataset.SklearnDataset.SklearnDataset object at 0x7f3635468910>\n"
     ]
    }
   ],
   "source": [
    "print(\"dataset:\",dataset)"
   ]
  },
  {
   "cell_type": "code",
   "execution_count": 174,
   "metadata": {},
   "outputs": [
    {
     "name": "stdout",
     "output_type": "stream",
     "text": [
      "dataset.features: [[6.3 3.3 4.7 1.6]\n",
      " [5.1 3.5 1.4 0.3]\n",
      " [5.9 3.2 4.8 1.8]\n",
      " [5.4 3.  4.5 1.5]\n",
      " [6.  3.4 4.5 1.6]\n",
      " [5.7 2.8 4.1 1.3]\n",
      " [5.8 2.7 3.9 1.2]\n",
      " [5.4 3.9 1.3 0.4]\n",
      " [6.1 3.  4.6 1.4]\n",
      " [6.9 3.1 5.4 2.1]\n",
      " [6.8 2.8 4.8 1.4]\n",
      " [5.5 2.4 3.8 1.1]\n",
      " [6.7 3.  5.  1.7]\n",
      " [6.  3.  4.8 1.8]\n",
      " [5.2 2.7 3.9 1.4]\n",
      " [7.7 2.8 6.7 2. ]\n",
      " [4.4 3.  1.3 0.2]\n",
      " [6.5 3.  5.2 2. ]\n",
      " [7.1 3.  5.9 2.1]\n",
      " [5.8 4.  1.2 0.2]\n",
      " [6.1 3.  4.9 1.8]\n",
      " [4.9 3.6 1.4 0.1]\n",
      " [6.  2.2 4.  1. ]\n",
      " [6.3 3.4 5.6 2.4]\n",
      " [6.8 3.2 5.9 2.3]\n",
      " [6.1 2.8 4.  1.3]\n",
      " [5.9 3.  4.2 1.5]\n",
      " [4.4 2.9 1.4 0.2]\n",
      " [6.7 3.1 4.4 1.4]\n",
      " [5.1 3.7 1.5 0.4]\n",
      " [6.2 2.9 4.3 1.3]\n",
      " [5.7 2.6 3.5 1. ]\n",
      " [5.  3.5 1.6 0.6]\n",
      " [5.8 2.7 5.1 1.9]\n",
      " [7.  3.2 4.7 1.4]\n",
      " [5.  2.  3.5 1. ]\n",
      " [4.4 3.2 1.3 0.2]\n",
      " [4.8 3.  1.4 0.1]\n",
      " [6.1 2.8 4.7 1.2]\n",
      " [7.3 2.9 6.3 1.8]\n",
      " [5.6 3.  4.5 1.5]\n",
      " [5.7 3.8 1.7 0.3]\n",
      " [6.5 3.  5.8 2.2]\n",
      " [7.4 2.8 6.1 1.9]\n",
      " [6.3 2.5 5.  1.9]\n",
      " [4.9 3.1 1.5 0.1]\n",
      " [7.7 3.  6.1 2.3]\n",
      " [5.5 3.5 1.3 0.2]\n",
      " [5.5 2.3 4.  1.3]\n",
      " [6.4 3.1 5.5 1.8]\n",
      " [4.5 2.3 1.3 0.3]\n",
      " [4.6 3.2 1.4 0.2]\n",
      " [5.  3.5 1.3 0.3]\n",
      " [5.1 3.3 1.7 0.5]\n",
      " [6.6 2.9 4.6 1.3]\n",
      " [6.2 2.2 4.5 1.5]\n",
      " [5.  3.6 1.4 0.2]\n",
      " [5.7 2.9 4.2 1.3]\n",
      " [5.2 4.1 1.5 0.1]\n",
      " [7.7 2.6 6.9 2.3]\n",
      " [5.4 3.4 1.5 0.4]\n",
      " [6.7 2.5 5.8 1.8]\n",
      " [5.6 2.9 3.6 1.3]\n",
      " [5.4 3.4 1.7 0.2]\n",
      " [6.7 3.1 4.7 1.5]\n",
      " [4.9 2.4 3.3 1. ]\n",
      " [6.3 2.7 4.9 1.8]\n",
      " [5.7 3.  4.2 1.2]\n",
      " [6.3 2.5 4.9 1.5]\n",
      " [6.7 3.3 5.7 2.5]\n",
      " [6.7 3.1 5.6 2.4]\n",
      " [6.9 3.2 5.7 2.3]\n",
      " [4.6 3.4 1.4 0.3]\n",
      " [5.1 2.5 3.  1.1]\n",
      " [5.2 3.4 1.4 0.2]\n",
      " [6.4 2.9 4.3 1.3]\n",
      " [6.4 3.2 5.3 2.3]\n",
      " [5.  2.3 3.3 1. ]\n",
      " [6.4 2.7 5.3 1.9]\n",
      " [5.4 3.9 1.7 0.4]\n",
      " [4.8 3.1 1.6 0.2]\n",
      " [5.  3.  1.6 0.2]\n",
      " [4.7 3.2 1.3 0.2]\n",
      " [5.7 2.8 4.5 1.3]\n",
      " [5.1 3.4 1.5 0.2]\n",
      " [5.6 2.5 3.9 1.1]\n",
      " [5.4 3.7 1.5 0.2]\n",
      " [6.3 2.8 5.1 1.5]\n",
      " [7.9 3.8 6.4 2. ]\n",
      " [4.8 3.4 1.6 0.2]\n",
      " [6.  2.9 4.5 1.5]\n",
      " [6.4 2.8 5.6 2.2]\n",
      " [4.9 3.  1.4 0.2]\n",
      " [5.1 3.8 1.9 0.4]\n",
      " [5.  3.2 1.2 0.2]\n",
      " [4.6 3.1 1.5 0.2]\n",
      " [6.3 2.9 5.6 1.8]\n",
      " [5.5 2.5 4.  1.3]\n",
      " [4.8 3.4 1.9 0.2]\n",
      " [6.8 3.  5.5 2.1]\n",
      " [6.4 2.8 5.6 2.1]\n",
      " [6.1 2.9 4.7 1.4]\n",
      " [6.3 3.3 6.  2.5]\n",
      " [5.1 3.5 1.4 0.2]\n",
      " [7.6 3.  6.6 2.1]\n",
      " [5.  3.4 1.5 0.2]\n",
      " [4.3 3.  1.1 0.1]\n",
      " [6.4 3.2 4.5 1.5]\n",
      " [5.8 2.7 5.1 1.9]\n",
      " [5.  3.4 1.6 0.4]\n",
      " [6.2 2.8 4.8 1.8]\n",
      " [6.9 3.1 5.1 2.3]\n",
      " [6.9 3.1 4.9 1.5]\n",
      " [6.  2.7 5.1 1.6]\n",
      " [4.9 3.1 1.5 0.2]\n",
      " [4.9 2.5 4.5 1.7]\n",
      " [5.1 3.8 1.6 0.2]\n",
      " [4.6 3.6 1.  0.2]\n",
      " [5.6 2.7 4.2 1.3]\n",
      " [4.8 3.  1.4 0.3]\n",
      " [6.2 3.4 5.4 2.3]\n",
      " [5.5 2.6 4.4 1.2]\n",
      " [7.2 3.  5.8 1.6]\n",
      " [6.1 2.6 5.6 1.4]\n",
      " [7.2 3.2 6.  1.8]\n",
      " [5.5 4.2 1.4 0.2]\n",
      " [6.6 3.  4.4 1.4]\n",
      " [5.2 3.5 1.5 0.2]\n",
      " [5.8 2.7 4.1 1. ]\n",
      " [5.7 2.5 5.  2. ]\n",
      " [7.7 3.8 6.7 2.2]\n",
      " [6.7 3.  5.2 2.3]\n",
      " [6.5 3.  5.5 1.8]\n",
      " [7.2 3.6 6.1 2.5]\n",
      " [6.7 3.3 5.7 2.1]\n",
      " [5.1 3.8 1.5 0.3]\n",
      " [6.5 3.2 5.1 2. ]\n",
      " [5.7 4.4 1.5 0.4]\n",
      " [5.8 2.8 5.1 2.4]\n",
      " [5.3 3.7 1.5 0.2]\n",
      " [4.7 3.2 1.6 0.2]\n",
      " [6.3 2.3 4.4 1.3]\n",
      " [5.5 2.4 3.7 1. ]\n",
      " [5.9 3.  5.1 1.8]\n",
      " [5.6 3.  4.1 1.3]\n",
      " [5.6 2.8 4.9 2. ]\n",
      " [5.  3.3 1.4 0.2]\n",
      " [6.  2.2 5.  1.5]\n",
      " [5.8 2.6 4.  1.2]\n",
      " [6.5 2.8 4.6 1.5]]\n"
     ]
    }
   ],
   "source": [
    "print(\"dataset.features:\",dataset.features)"
   ]
  },
  {
   "cell_type": "code",
   "execution_count": 175,
   "metadata": {},
   "outputs": [
    {
     "name": "stdout",
     "output_type": "stream",
     "text": [
      "dataset.labels: [[1]\n",
      " [0]\n",
      " [1]\n",
      " [1]\n",
      " [1]\n",
      " [1]\n",
      " [1]\n",
      " [0]\n",
      " [1]\n",
      " [2]\n",
      " [1]\n",
      " [1]\n",
      " [1]\n",
      " [2]\n",
      " [1]\n",
      " [2]\n",
      " [0]\n",
      " [2]\n",
      " [2]\n",
      " [0]\n",
      " [2]\n",
      " [0]\n",
      " [1]\n",
      " [2]\n",
      " [2]\n",
      " [1]\n",
      " [1]\n",
      " [0]\n",
      " [1]\n",
      " [0]\n",
      " [1]\n",
      " [1]\n",
      " [0]\n",
      " [2]\n",
      " [1]\n",
      " [1]\n",
      " [0]\n",
      " [0]\n",
      " [1]\n",
      " [2]\n",
      " [1]\n",
      " [0]\n",
      " [2]\n",
      " [2]\n",
      " [2]\n",
      " [0]\n",
      " [2]\n",
      " [0]\n",
      " [1]\n",
      " [2]\n",
      " [0]\n",
      " [0]\n",
      " [0]\n",
      " [0]\n",
      " [1]\n",
      " [1]\n",
      " [0]\n",
      " [1]\n",
      " [0]\n",
      " [2]\n",
      " [0]\n",
      " [2]\n",
      " [1]\n",
      " [0]\n",
      " [1]\n",
      " [1]\n",
      " [2]\n",
      " [1]\n",
      " [1]\n",
      " [2]\n",
      " [2]\n",
      " [2]\n",
      " [0]\n",
      " [1]\n",
      " [0]\n",
      " [1]\n",
      " [2]\n",
      " [1]\n",
      " [2]\n",
      " [0]\n",
      " [0]\n",
      " [0]\n",
      " [0]\n",
      " [1]\n",
      " [0]\n",
      " [1]\n",
      " [0]\n",
      " [2]\n",
      " [2]\n",
      " [0]\n",
      " [1]\n",
      " [2]\n",
      " [0]\n",
      " [0]\n",
      " [0]\n",
      " [0]\n",
      " [2]\n",
      " [1]\n",
      " [0]\n",
      " [2]\n",
      " [2]\n",
      " [1]\n",
      " [2]\n",
      " [0]\n",
      " [2]\n",
      " [0]\n",
      " [0]\n",
      " [1]\n",
      " [2]\n",
      " [0]\n",
      " [2]\n",
      " [2]\n",
      " [1]\n",
      " [1]\n",
      " [0]\n",
      " [2]\n",
      " [0]\n",
      " [0]\n",
      " [1]\n",
      " [0]\n",
      " [2]\n",
      " [1]\n",
      " [2]\n",
      " [2]\n",
      " [2]\n",
      " [0]\n",
      " [1]\n",
      " [0]\n",
      " [1]\n",
      " [2]\n",
      " [2]\n",
      " [2]\n",
      " [2]\n",
      " [2]\n",
      " [2]\n",
      " [0]\n",
      " [2]\n",
      " [0]\n",
      " [2]\n",
      " [0]\n",
      " [0]\n",
      " [1]\n",
      " [1]\n",
      " [2]\n",
      " [1]\n",
      " [2]\n",
      " [0]\n",
      " [2]\n",
      " [1]\n",
      " [1]]\n"
     ]
    }
   ],
   "source": [
    "print(\"dataset.labels:\",dataset.labels)"
   ]
  },
  {
   "cell_type": "code",
   "execution_count": 176,
   "metadata": {},
   "outputs": [
    {
     "data": {
      "text/html": [
       "<div>\n",
       "<style scoped>\n",
       "    .dataframe tbody tr th:only-of-type {\n",
       "        vertical-align: middle;\n",
       "    }\n",
       "\n",
       "    .dataframe tbody tr th {\n",
       "        vertical-align: top;\n",
       "    }\n",
       "\n",
       "    .dataframe thead th {\n",
       "        text-align: right;\n",
       "    }\n",
       "</style>\n",
       "<table border=\"1\" class=\"dataframe\">\n",
       "  <thead>\n",
       "    <tr style=\"text-align: right;\">\n",
       "      <th></th>\n",
       "      <th>0</th>\n",
       "      <th>1</th>\n",
       "      <th>2</th>\n",
       "      <th>3</th>\n",
       "    </tr>\n",
       "  </thead>\n",
       "  <tbody>\n",
       "    <tr>\n",
       "      <th>120</th>\n",
       "      <td>6.2</td>\n",
       "      <td>3.4</td>\n",
       "      <td>5.4</td>\n",
       "      <td>2.3</td>\n",
       "    </tr>\n",
       "    <tr>\n",
       "      <th>108</th>\n",
       "      <td>5.8</td>\n",
       "      <td>2.7</td>\n",
       "      <td>5.1</td>\n",
       "      <td>1.9</td>\n",
       "    </tr>\n",
       "    <tr>\n",
       "      <th>74</th>\n",
       "      <td>5.2</td>\n",
       "      <td>3.4</td>\n",
       "      <td>1.4</td>\n",
       "      <td>0.2</td>\n",
       "    </tr>\n",
       "    <tr>\n",
       "      <th>1</th>\n",
       "      <td>5.1</td>\n",
       "      <td>3.5</td>\n",
       "      <td>1.4</td>\n",
       "      <td>0.3</td>\n",
       "    </tr>\n",
       "    <tr>\n",
       "      <th>107</th>\n",
       "      <td>6.4</td>\n",
       "      <td>3.2</td>\n",
       "      <td>4.5</td>\n",
       "      <td>1.5</td>\n",
       "    </tr>\n",
       "  </tbody>\n",
       "</table>\n",
       "</div>"
      ],
      "text/plain": [
       "       0    1    2    3\n",
       "120  6.2  3.4  5.4  2.3\n",
       "108  5.8  2.7  5.1  1.9\n",
       "74   5.2  3.4  1.4  0.2\n",
       "1    5.1  3.5  1.4  0.3\n",
       "107  6.4  3.2  4.5  1.5"
      ]
     },
     "execution_count": 176,
     "metadata": {},
     "output_type": "execute_result"
    }
   ],
   "source": [
    "pd_d = pd.DataFrame(dataset.features)\n",
    "pd_d.sample(5)"
   ]
  },
  {
   "cell_type": "code",
   "execution_count": 177,
   "metadata": {},
   "outputs": [
    {
     "data": {
      "text/html": [
       "<div>\n",
       "<style scoped>\n",
       "    .dataframe tbody tr th:only-of-type {\n",
       "        vertical-align: middle;\n",
       "    }\n",
       "\n",
       "    .dataframe tbody tr th {\n",
       "        vertical-align: top;\n",
       "    }\n",
       "\n",
       "    .dataframe thead th {\n",
       "        text-align: right;\n",
       "    }\n",
       "</style>\n",
       "<table border=\"1\" class=\"dataframe\">\n",
       "  <thead>\n",
       "    <tr style=\"text-align: right;\">\n",
       "      <th></th>\n",
       "      <th>0</th>\n",
       "    </tr>\n",
       "  </thead>\n",
       "  <tbody>\n",
       "    <tr>\n",
       "      <th>19</th>\n",
       "      <td>0</td>\n",
       "    </tr>\n",
       "    <tr>\n",
       "      <th>41</th>\n",
       "      <td>0</td>\n",
       "    </tr>\n",
       "    <tr>\n",
       "      <th>103</th>\n",
       "      <td>0</td>\n",
       "    </tr>\n",
       "    <tr>\n",
       "      <th>100</th>\n",
       "      <td>2</td>\n",
       "    </tr>\n",
       "    <tr>\n",
       "      <th>33</th>\n",
       "      <td>2</td>\n",
       "    </tr>\n",
       "  </tbody>\n",
       "</table>\n",
       "</div>"
      ],
      "text/plain": [
       "     0\n",
       "19   0\n",
       "41   0\n",
       "103  0\n",
       "100  2\n",
       "33   2"
      ]
     },
     "execution_count": 177,
     "metadata": {},
     "output_type": "execute_result"
    }
   ],
   "source": [
    "pd_l = pd.DataFrame(dataset.labels)\n",
    "pd_l.sample(5)"
   ]
  },
  {
   "cell_type": "code",
   "execution_count": 178,
   "metadata": {},
   "outputs": [
    {
     "name": "stdout",
     "output_type": "stream",
     "text": [
      "Evaluating clustering with metric c\n",
      "Evaluating clustering with metric a\n",
      "Evaluating clustering with metric l\n",
      "Evaluating clustering with metric i\n",
      "Evaluating clustering with metric n\n",
      "Evaluating clustering with metric k\n",
      "Evaluating clustering with metric s\n",
      "Evaluating clustering with metric i\n",
      "Evaluating clustering with metric _\n",
      "Evaluating clustering with metric h\n",
      "Evaluating clustering with metric a\n",
      "Evaluating clustering with metric r\n",
      "Evaluating clustering with metric a\n",
      "Evaluating clustering with metric b\n",
      "Evaluating clustering with metric a\n",
      "Evaluating clustering with metric z\n",
      "Evaluating clustering with metric ,\n",
      "Evaluating clustering with metric d\n",
      "Evaluating clustering with metric a\n",
      "Evaluating clustering with metric v\n",
      "Evaluating clustering with metric i\n",
      "Evaluating clustering with metric e\n",
      "Evaluating clustering with metric s\n",
      "Evaluating clustering with metric _\n",
      "Evaluating clustering with metric b\n",
      "Evaluating clustering with metric o\n",
      "Evaluating clustering with metric u\n",
      "Evaluating clustering with metric l\n",
      "Evaluating clustering with metric d\n",
      "Evaluating clustering with metric i\n",
      "Evaluating clustering with metric n\n",
      "Evaluating clustering with metric ,\n",
      "Evaluating clustering with metric s\n",
      "Evaluating clustering with metric i\n",
      "Evaluating clustering with metric l\n",
      "Evaluating clustering with metric h\n",
      "Evaluating clustering with metric o\n",
      "Evaluating clustering with metric u\n",
      "Evaluating clustering with metric e\n",
      "Evaluating clustering with metric t\n",
      "Evaluating clustering with metric t\n",
      "Evaluating clustering with metric e\n",
      "{}\n"
     ]
    }
   ],
   "source": [
    "clusterer = KMeansClusterer(X=dataset.features, Y=dataset.labels, metrics=metrics, num_clusters=5)\n",
    "clusterer.fit()\n",
    "results = clusterer.evaluate()\n",
    "print(results)"
   ]
  },
  {
   "cell_type": "code",
   "execution_count": 179,
   "metadata": {},
   "outputs": [],
   "source": [
    "class GMMClusterer(Clusterer):\n",
    "    def __init__(self, **kwargs):\n",
    "        super(GMMClusterer, self).__init__(**kwargs)\n",
    "        if self.centroids is not None:\n",
    "            kwargs['init'] = self.centroids\n",
    "        self.model = skc.mixture.GaussianMixture(**{k:v for k,v in kwargs.items() if k in ALLOWED_KWARGS})\n",
    "\n",
    "    def fit(self):\n",
    "        self.model.fit(self.X, self.Y)\n",
    "        self.centroids = self.model.cluster_centers_\n",
    "        self.assignments = self.model.labels_"
   ]
  },
  {
   "cell_type": "code",
   "execution_count": 180,
   "metadata": {},
   "outputs": [],
   "source": [
    "fnc_omg_sim_ds = FNCDataset.load('../../data/FNCDatasets/OmegaSim/omega_sim.npy')\n",
    "skl_moon_ds = FNCDataset.load('../../data//SklearnDatasets/Moons/moons.npy')\n",
    "skl_iris_ds = FNCDataset.load('../../data//SklearnDatasets/Iris/iris.npy')\n",
    "skl_blobs_ds = FNCDataset.load('../../data//SklearnDatasets/Blobs/blobs.npy')\n",
    "skl_class_ds = FNCDataset.load('../../data//SklearnDatasets/Classification/classification.npy')\n",
    "skl_mnist_ds = FNCDataset.load('../../data//SklearnDatasets/MNIST/mnist.npy')"
   ]
  },
  {
   "cell_type": "code",
   "execution_count": 181,
   "metadata": {},
   "outputs": [
    {
     "name": "stdout",
     "output_type": "stream",
     "text": [
      "fnc_omg_sim_ds: <dfncluster.Dataset.FNCDataset.FNCDataset object at 0x7f36376974d0>\n",
      "skl_moon_ds: <dfncluster.Dataset.FNCDataset.FNCDataset object at 0x7f3637697250>\n",
      "skl_iris_ds: <dfncluster.Dataset.FNCDataset.FNCDataset object at 0x7f36376979d0>\n",
      "skl_blobs_ds: <dfncluster.Dataset.FNCDataset.FNCDataset object at 0x7f3637697550>\n",
      "skl_class_ds: <dfncluster.Dataset.FNCDataset.FNCDataset object at 0x7f3637697590>\n",
      "skl_mnist_ds: <dfncluster.Dataset.FNCDataset.FNCDataset object at 0x7f3637697810>\n"
     ]
    }
   ],
   "source": [
    "print(\"fnc_omg_sim_ds:\",fnc_omg_sim_ds)\n",
    "print(\"skl_moon_ds:\",skl_moon_ds)\n",
    "print(\"skl_iris_ds:\",skl_iris_ds)\n",
    "print(\"skl_blobs_ds:\",skl_blobs_ds)\n",
    "print(\"skl_class_ds:\",skl_class_ds)\n",
    "print(\"skl_mnist_ds:\",skl_mnist_ds)"
   ]
  },
  {
   "cell_type": "code",
   "execution_count": 182,
   "metadata": {},
   "outputs": [
    {
     "name": "stdout",
     "output_type": "stream",
     "text": [
      "type(fnc_omg_sim_ds): <class 'dfncluster.Dataset.FNCDataset.FNCDataset'>\n",
      "type(fnc_omg_sim_ds.features): <class 'numpy.ndarray'>\n",
      "type(fnc_omg_sim_ds.labels): <class 'numpy.ndarray'>\n",
      "fnc_omg_sim_ds.features.shape: (466944, 55)\n",
      "fnc_omg_sim_ds.labels.shape: (466944, 1)\n",
      "fnc_omg_sim_ds.features: [[ 1.         -0.1745931  -0.14668377 ...  1.         -0.15118515\n",
      "   1.        ]\n",
      " [ 1.          0.16827016  0.11046061 ...  1.         -0.06231507\n",
      "   1.        ]\n",
      " [ 1.         -0.50772085 -0.0388995  ...  1.          0.26997111\n",
      "   1.        ]\n",
      " ...\n",
      " [ 1.          0.60522456 -0.20970329 ...  1.         -0.00873832\n",
      "   1.        ]\n",
      " [ 1.         -0.3264642   0.01403594 ...  1.          0.03176851\n",
      "   1.        ]\n",
      " [ 1.         -0.32729087  0.07675581 ...  1.         -0.30055139\n",
      "   1.        ]]\n",
      "fnc_omg_sim_ds.labels: [[1]\n",
      " [0]\n",
      " [0]\n",
      " ...\n",
      " [1]\n",
      " [0]\n",
      " [1]]\n"
     ]
    }
   ],
   "source": [
    "print(\"type(fnc_omg_sim_ds):\",type(fnc_omg_sim_ds))\n",
    "print(\"type(fnc_omg_sim_ds.features):\",type(fnc_omg_sim_ds.features))\n",
    "print(\"type(fnc_omg_sim_ds.labels):\",type(fnc_omg_sim_ds.labels))\n",
    "print(\"fnc_omg_sim_ds.features.shape:\",fnc_omg_sim_ds.features.shape)\n",
    "print(\"fnc_omg_sim_ds.labels.shape:\",fnc_omg_sim_ds.labels.shape)\n",
    "print(\"fnc_omg_sim_ds.features:\",fnc_omg_sim_ds.features)\n",
    "print(\"fnc_omg_sim_ds.labels:\",fnc_omg_sim_ds.labels)"
   ]
  },
  {
   "cell_type": "code",
   "execution_count": 183,
   "metadata": {},
   "outputs": [
    {
     "name": "stdout",
     "output_type": "stream",
     "text": [
      "type(data): <class 'pandas.core.frame.DataFrame'>\n",
      "data:            subject_id  diagnosis  \\\n",
      "0        hc_subject_0          0   \n",
      "1        sz_subject_0          1   \n",
      "2        hc_subject_1          0   \n",
      "3        sz_subject_1          1   \n",
      "4        hc_subject_2          0   \n",
      "...               ...        ...   \n",
      "2043  sz_subject_1040          1   \n",
      "2044  hc_subject_1041          0   \n",
      "2045  sz_subject_1041          1   \n",
      "2046  hc_subject_1042          0   \n",
      "2047  sz_subject_1042          1   \n",
      "\n",
      "                                                 ica_tc  \n",
      "0     data/FNCDatasets/OmegaSim/subjects/hc_subject_...  \n",
      "1     data/FNCDatasets/OmegaSim/subjects/sz_subject_...  \n",
      "2     data/FNCDatasets/OmegaSim/subjects/hc_subject_...  \n",
      "3     data/FNCDatasets/OmegaSim/subjects/sz_subject_...  \n",
      "4     data/FNCDatasets/OmegaSim/subjects/hc_subject_...  \n",
      "...                                                 ...  \n",
      "2043  data/FNCDatasets/OmegaSim/subjects/sz_subject_...  \n",
      "2044  data/FNCDatasets/OmegaSim/subjects/hc_subject_...  \n",
      "2045  data/FNCDatasets/OmegaSim/subjects/sz_subject_...  \n",
      "2046  data/FNCDatasets/OmegaSim/subjects/hc_subject_...  \n",
      "2047  data/FNCDatasets/OmegaSim/subjects/sz_subject_...  \n",
      "\n",
      "[2048 rows x 3 columns]\n"
     ]
    }
   ],
   "source": [
    "data = pd.read_csv('../../data/FNCDatasets/OmegaSim/data.csv')\n",
    "print(\"type(data):\",type(data))\n",
    "data.sample(5)\n",
    "print(\"data:\",data)"
   ]
  },
  {
   "cell_type": "code",
   "execution_count": 184,
   "metadata": {},
   "outputs": [
    {
     "name": "stdout",
     "output_type": "stream",
     "text": [
      "mat: <class 'dict'>\n",
      "__header__\n",
      "__version__\n",
      "__globals__\n",
      "TC\n",
      "mat: {'__header__': b'MATLAB 5.0 MAT-file Platform: posix, Created on: Thu Mar  5 09:59:25 2020', '__version__': '1.0', '__globals__': [], 'TC': array([[-2.72354301, -0.09698426,  2.93962051, ...,  0.49306869,\n",
      "        -1.68084593,  0.42884779],\n",
      "       [-0.47728405,  4.31409453,  0.78009711, ...,  1.68099367,\n",
      "         2.88172432, -0.5835303 ],\n",
      "       [ 2.42417433,  0.93776508, -0.92403109, ..., -1.88944391,\n",
      "         1.67690019, -3.12080356],\n",
      "       ...,\n",
      "       [-0.54389254, -1.00687024,  1.61654616, ...,  0.38351467,\n",
      "        -0.30728288,  2.96880202],\n",
      "       [-0.03200204, -0.61387053, -1.03523179, ...,  2.30081054,\n",
      "         0.61548138,  0.17472277],\n",
      "       [ 0.43145841,  0.72451249, -1.38082123, ..., -2.4654087 ,\n",
      "        -1.35266997, -2.0885216 ]])}\n"
     ]
    }
   ],
   "source": [
    "mat = scipy.io.loadmat('/home/jitendra/Desktop/mlCs7641Spring2020/project/spring2020/grprj/20200320_git/dfncluster/data/FNCDatasets/OmegaSim/subjects/hc_subject_0.mat')\n",
    "print(\"mat:\",type(mat))\n",
    "for key, value in mat.items() :\n",
    "    print (key)\n",
    "print(\"mat:\",mat)"
   ]
  },
  {
   "cell_type": "code",
   "execution_count": 185,
   "metadata": {},
   "outputs": [
    {
     "name": "stdout",
     "output_type": "stream",
     "text": [
      "mat: <class 'dict'>\n",
      "__header__\n",
      "__version__\n",
      "__globals__\n",
      "TC\n",
      "mat: {'__header__': b'MATLAB 5.0 MAT-file Platform: posix, Created on: Thu Mar  5 09:59:25 2020', '__version__': '1.0', '__globals__': [], 'TC': array([[-0.84583535, -0.29927808, -0.75459436, ...,  1.17950046,\n",
      "        -2.12391667,  0.77481705],\n",
      "       [ 0.74629973, -1.24436502,  1.92900753, ...,  0.61001418,\n",
      "        -0.42067165,  3.71469709],\n",
      "       [ 0.24945254,  0.30527389,  1.76620956, ...,  0.85032908,\n",
      "        -0.1106838 , -1.85578182],\n",
      "       ...,\n",
      "       [ 0.51738939, -1.39763765,  1.53748178, ...,  2.9020796 ,\n",
      "        -0.40124015,  1.52557897],\n",
      "       [ 0.32697769, -0.16274691,  0.25059757, ...,  0.32704819,\n",
      "         0.38316728, -0.01187249],\n",
      "       [ 0.1126536 , -0.35077703,  2.17597767, ..., -0.96942425,\n",
      "        -0.67455   ,  1.45356341]])}\n"
     ]
    }
   ],
   "source": [
    "mat = scipy.io.loadmat('/home/jitendra/Desktop/mlCs7641Spring2020/project/spring2020/grprj/20200320_git/dfncluster/data/FNCDatasets/OmegaSim/subjects/sz_subject_0.mat')\n",
    "print(\"mat:\",type(mat))\n",
    "for key, value in mat.items() :\n",
    "    print (key)\n",
    "print(\"mat:\",mat)"
   ]
  },
  {
   "cell_type": "code",
   "execution_count": 186,
   "metadata": {},
   "outputs": [
    {
     "name": "stdout",
     "output_type": "stream",
     "text": [
      "Unique Values :  [0 1]\n",
      "Occurrence Count :  [233472 233472]\n"
     ]
    }
   ],
   "source": [
    "uniqueValues, occurCount = np.unique(fnc_omg_sim_ds.labels, return_counts=True)\n",
    "print(\"Unique Values : \" , uniqueValues)\n",
    "print(\"Occurrence Count : \", occurCount)"
   ]
  },
  {
   "cell_type": "code",
   "execution_count": 187,
   "metadata": {},
   "outputs": [
    {
     "name": "stdout",
     "output_type": "stream",
     "text": [
      "Unique Values :  [0 1]\n",
      "Occurrence Count :  [5000 5000]\n"
     ]
    }
   ],
   "source": [
    "uniqueValues, occurCount = np.unique(skl_moon_ds.labels, return_counts=True)\n",
    "print(\"Unique Values : \" , uniqueValues)\n",
    "print(\"Occurrence Count : \", occurCount)"
   ]
  },
  {
   "cell_type": "code",
   "execution_count": 188,
   "metadata": {},
   "outputs": [
    {
     "name": "stdout",
     "output_type": "stream",
     "text": [
      "Unique Values :  [0 1 2]\n",
      "Occurrence Count :  [50 50 50]\n"
     ]
    }
   ],
   "source": [
    "uniqueValues, occurCount = np.unique(skl_iris_ds.labels, return_counts=True)\n",
    "print(\"Unique Values : \" , uniqueValues)\n",
    "print(\"Occurrence Count : \", occurCount)"
   ]
  },
  {
   "cell_type": "code",
   "execution_count": 189,
   "metadata": {},
   "outputs": [
    {
     "name": "stdout",
     "output_type": "stream",
     "text": [
      "Unique Values :  [0 1 2]\n",
      "Occurrence Count :  [3334 3333 3333]\n"
     ]
    }
   ],
   "source": [
    "uniqueValues, occurCount = np.unique(skl_blobs_ds.labels, return_counts=True)\n",
    "print(\"Unique Values : \" , uniqueValues)\n",
    "print(\"Occurrence Count : \", occurCount)"
   ]
  },
  {
   "cell_type": "code",
   "execution_count": 190,
   "metadata": {},
   "outputs": [
    {
     "name": "stdout",
     "output_type": "stream",
     "text": [
      "Unique Values :  [0 1]\n",
      "Occurrence Count :  [4990 5010]\n"
     ]
    }
   ],
   "source": [
    "uniqueValues, occurCount = np.unique(skl_class_ds.labels, return_counts=True)\n",
    "print(\"Unique Values : \" , uniqueValues)\n",
    "print(\"Occurrence Count : \", occurCount)"
   ]
  },
  {
   "cell_type": "code",
   "execution_count": 191,
   "metadata": {},
   "outputs": [
    {
     "name": "stdout",
     "output_type": "stream",
     "text": [
      "Unique Values :  ['0' '1' '2' '3' '4' '5' '6' '7' '8' '9']\n",
      "Occurrence Count :  [6903 7877 6990 7141 6824 6313 6876 7293 6825 6958]\n"
     ]
    }
   ],
   "source": [
    "uniqueValues, occurCount = np.unique(skl_mnist_ds.labels, return_counts=True)\n",
    "print(\"Unique Values : \" , uniqueValues)\n",
    "print(\"Occurrence Count : \", occurCount)"
   ]
  },
  {
   "cell_type": "code",
   "execution_count": 192,
   "metadata": {},
   "outputs": [
    {
     "data": {
      "text/html": [
       "<div>\n",
       "<style scoped>\n",
       "    .dataframe tbody tr th:only-of-type {\n",
       "        vertical-align: middle;\n",
       "    }\n",
       "\n",
       "    .dataframe tbody tr th {\n",
       "        vertical-align: top;\n",
       "    }\n",
       "\n",
       "    .dataframe thead th {\n",
       "        text-align: right;\n",
       "    }\n",
       "</style>\n",
       "<table border=\"1\" class=\"dataframe\">\n",
       "  <thead>\n",
       "    <tr style=\"text-align: right;\">\n",
       "      <th></th>\n",
       "      <th>PC1</th>\n",
       "      <th>PC2</th>\n",
       "    </tr>\n",
       "  </thead>\n",
       "  <tbody>\n",
       "    <tr>\n",
       "      <th>370201</th>\n",
       "      <td>-0.128402</td>\n",
       "      <td>0.198202</td>\n",
       "    </tr>\n",
       "    <tr>\n",
       "      <th>173573</th>\n",
       "      <td>0.323083</td>\n",
       "      <td>0.079602</td>\n",
       "    </tr>\n",
       "    <tr>\n",
       "      <th>259393</th>\n",
       "      <td>0.086336</td>\n",
       "      <td>-0.229725</td>\n",
       "    </tr>\n",
       "    <tr>\n",
       "      <th>120666</th>\n",
       "      <td>0.213983</td>\n",
       "      <td>-0.147167</td>\n",
       "    </tr>\n",
       "    <tr>\n",
       "      <th>308799</th>\n",
       "      <td>0.030318</td>\n",
       "      <td>-0.061110</td>\n",
       "    </tr>\n",
       "  </tbody>\n",
       "</table>\n",
       "</div>"
      ],
      "text/plain": [
       "             PC1       PC2\n",
       "370201 -0.128402  0.198202\n",
       "173573  0.323083  0.079602\n",
       "259393  0.086336 -0.229725\n",
       "120666  0.213983 -0.147167\n",
       "308799  0.030318 -0.061110"
      ]
     },
     "execution_count": 192,
     "metadata": {},
     "output_type": "execute_result"
    }
   ],
   "source": [
    "seed = 0\n",
    "ndimensions = 2\n",
    "pca = PCA(n_components=ndimensions, random_state=seed)\n",
    "pca.fit(fnc_omg_sim_ds.features)\n",
    "X_pca_array = pca.transform(fnc_omg_sim_ds.features)\n",
    "X_pca = pd.DataFrame(X_pca_array, columns=['PC1','PC2'])\n",
    "X_pca.sample(5)"
   ]
  },
  {
   "cell_type": "code",
   "execution_count": 193,
   "metadata": {},
   "outputs": [
    {
     "name": "stdout",
     "output_type": "stream",
     "text": [
      "type(X_pca): <class 'pandas.core.frame.DataFrame'>\n",
      "X_pca.shape: (466944, 2)\n"
     ]
    }
   ],
   "source": [
    "print(\"type(X_pca):\",type(X_pca))\n",
    "print(\"X_pca.shape:\",X_pca.shape)"
   ]
  },
  {
   "cell_type": "code",
   "execution_count": 194,
   "metadata": {},
   "outputs": [
    {
     "data": {
      "text/plain": [
       "<matplotlib.axes._subplots.AxesSubplot at 0x7f3637657290>"
      ]
     },
     "execution_count": 194,
     "metadata": {},
     "output_type": "execute_result"
    },
    {
     "data": {
      "image/png": "[encoded data removed]",
      "text/plain": [
       "<Figure size 432x288 with 1 Axes>"
      ]
     },
     "metadata": {
      "needs_background": "light"
     },
     "output_type": "display_data"
    }
   ],
   "source": [
    "X_pca.plot.scatter(x='PC1', y='PC2', title='fnc_omg_sim_ds PCA Dataset')"
   ]
  },
  {
   "cell_type": "code",
   "execution_count": 195,
   "metadata": {},
   "outputs": [
    {
     "data": {
      "text/plain": [
       "<matplotlib.axes._subplots.AxesSubplot at 0x7f36375ec2d0>"
      ]
     },
     "execution_count": 195,
     "metadata": {},
     "output_type": "execute_result"
    },
    {
     "data": {
      "image/png": "[encoded data removed]",
      "text/plain": [
       "<Figure size 432x288 with 1 Axes>"
      ]
     },
     "metadata": {
      "needs_background": "light"
     },
     "output_type": "display_data"
    }
   ],
   "source": [
    "X_pca.plot.hist()"
   ]
  },
  {
   "cell_type": "code",
   "execution_count": 196,
   "metadata": {},
   "outputs": [
    {
     "name": "stdout",
     "output_type": "stream",
     "text": [
      "type(fnc_omg_sim_ds.features): <class 'numpy.ndarray'>\n",
      "fnc_omg_sim_ds.features: [[ 1.         -0.1745931  -0.14668377 ...  1.         -0.15118515\n",
      "   1.        ]\n",
      " [ 1.          0.16827016  0.11046061 ...  1.         -0.06231507\n",
      "   1.        ]\n",
      " [ 1.         -0.50772085 -0.0388995  ...  1.          0.26997111\n",
      "   1.        ]\n",
      " ...\n",
      " [ 1.          0.60522456 -0.20970329 ...  1.         -0.00873832\n",
      "   1.        ]\n",
      " [ 1.         -0.3264642   0.01403594 ...  1.          0.03176851\n",
      "   1.        ]\n",
      " [ 1.         -0.32729087  0.07675581 ...  1.         -0.30055139\n",
      "   1.        ]]\n"
     ]
    },
    {
     "data": {
      "text/plain": [
       "<matplotlib.axes._subplots.AxesSubplot at 0x7f3637580810>"
      ]
     },
     "execution_count": 196,
     "metadata": {},
     "output_type": "execute_result"
    },
    {
     "data": {
      "image/png": "[encoded data removed]",
      "text/plain": [
       "<Figure size 432x288 with 1 Axes>"
      ]
     },
     "metadata": {
      "needs_background": "light"
     },
     "output_type": "display_data"
    }
   ],
   "source": [
    "print(\"type(fnc_omg_sim_ds.features):\",type(fnc_omg_sim_ds.features))\n",
    "print(\"fnc_omg_sim_ds.features:\",fnc_omg_sim_ds.features)\n",
    "X_pca = pd.DataFrame(fnc_omg_sim_ds.features)\n",
    "X_pca.sample(5)\n",
    "X_pca.plot.hist()"
   ]
  },
  {
   "cell_type": "code",
   "execution_count": 197,
   "metadata": {},
   "outputs": [
    {
     "name": "stdout",
     "output_type": "stream",
     "text": [
      "type(fnc_omg_sim_ds.labels): <class 'numpy.ndarray'>\n",
      "fnc_omg_sim_ds.labels: [[1]\n",
      " [0]\n",
      " [0]\n",
      " ...\n",
      " [1]\n",
      " [0]\n",
      " [1]]\n"
     ]
    },
    {
     "data": {
      "text/plain": [
       "<matplotlib.axes._subplots.AxesSubplot at 0x7f3634f72dd0>"
      ]
     },
     "execution_count": 197,
     "metadata": {},
     "output_type": "execute_result"
    },
    {
     "data": {
      "image/png": "[encoded data removed]",
      "text/plain": [
       "<Figure size 432x288 with 1 Axes>"
      ]
     },
     "metadata": {
      "needs_background": "light"
     },
     "output_type": "display_data"
    }
   ],
   "source": [
    "print(\"type(fnc_omg_sim_ds.labels):\",type(fnc_omg_sim_ds.labels))\n",
    "print(\"fnc_omg_sim_ds.labels:\",fnc_omg_sim_ds.labels)\n",
    "X_pca = pd.DataFrame(fnc_omg_sim_ds.labels)\n",
    "X_pca.sample(5)\n",
    "X_pca.plot.hist()"
   ]
  },
  {
   "cell_type": "code",
   "execution_count": 198,
   "metadata": {},
   "outputs": [],
   "source": [
    "seed = 0\n",
    "nclusters = 2\n",
    "km = KMeans(n_clusters=nclusters, random_state=seed)\n",
    "km.fit(fnc_omg_sim_ds.features)\n",
    "y_cluster_kmeans = km.predict(fnc_omg_sim_ds.features)"
   ]
  },
  {
   "cell_type": "code",
   "execution_count": 199,
   "metadata": {},
   "outputs": [
    {
     "name": "stdout",
     "output_type": "stream",
     "text": [
      "score: 0.015258644842111672\n"
     ]
    }
   ],
   "source": [
    "score = sklearn.metrics.silhouette_score(fnc_omg_sim_ds.features, y_cluster_kmeans)\n",
    "print(\"score:\",score)"
   ]
  },
  {
   "cell_type": "code",
   "execution_count": 200,
   "metadata": {},
   "outputs": [
    {
     "name": "stdout",
     "output_type": "stream",
     "text": [
      "y_cluster_kmeans: [0 1 0 ... 1 0 1]\n",
      "type(y_cluster_kmeans): <class 'numpy.ndarray'>\n",
      "y_cluster_kmeans.shape: (466944,)\n",
      "fnc_omg_sim_ds.labels.shape: (466944, 1)\n",
      "score: 2.7060322939405693e-06\n"
     ]
    }
   ],
   "source": [
    "print(\"y_cluster_kmeans:\",y_cluster_kmeans)\n",
    "print(\"type(y_cluster_kmeans):\",type(y_cluster_kmeans))\n",
    "print(\"y_cluster_kmeans.shape:\",y_cluster_kmeans.shape)\n",
    "print(\"fnc_omg_sim_ds.labels.shape:\",fnc_omg_sim_ds.labels.shape)\n",
    "score = adjusted_rand_score(fnc_omg_sim_ds.labels[:,0], y_cluster_kmeans)\n",
    "print(\"score:\",score)"
   ]
  },
  {
   "cell_type": "code",
   "execution_count": 201,
   "metadata": {},
   "outputs": [],
   "source": [
    "nclusters=2\n",
    "gmm_sim_2 = GaussianMixture(n_components=nclusters)"
   ]
  },
  {
   "cell_type": "code",
   "execution_count": 202,
   "metadata": {},
   "outputs": [
    {
     "data": {
      "text/plain": [
       "GaussianMixture(covariance_type='full', init_params='kmeans', max_iter=100,\n",
       "                means_init=None, n_components=2, n_init=1, precisions_init=None,\n",
       "                random_state=None, reg_covar=1e-06, tol=0.001, verbose=0,\n",
       "                verbose_interval=10, warm_start=False, weights_init=None)"
      ]
     },
     "execution_count": 202,
     "metadata": {},
     "output_type": "execute_result"
    }
   ],
   "source": [
    "gmm_sim_2.fit(fnc_omg_sim_ds.features,fnc_omg_sim_ds.labels)"
   ]
  },
  {
   "cell_type": "code",
   "execution_count": 203,
   "metadata": {},
   "outputs": [],
   "source": [
    "gmm_sim_pred_2 = gmm_sim_2.predict(fnc_omg_sim_ds.features)"
   ]
  },
  {
   "cell_type": "code",
   "execution_count": 204,
   "metadata": {},
   "outputs": [
    {
     "name": "stdout",
     "output_type": "stream",
     "text": [
      "gmm_sim_pred_2: [1 0 0 ... 1 1 0]\n",
      "type(gmm_sim_pred_2): <class 'numpy.ndarray'>\n",
      "gmm_sim_pred_2.shape: (466944,)\n",
      "fnc_omg_sim_ds.labels.shape: (466944, 1)\n",
      "score: 5.51184452733038e-07\n"
     ]
    }
   ],
   "source": [
    "print(\"gmm_sim_pred_2:\",gmm_sim_pred_2)\n",
    "print(\"type(gmm_sim_pred_2):\",type(gmm_sim_pred_2))\n",
    "print(\"gmm_sim_pred_2.shape:\",gmm_sim_pred_2.shape)\n",
    "print(\"fnc_omg_sim_ds.labels.shape:\",fnc_omg_sim_ds.labels.shape)\n",
    "score = adjusted_rand_score(fnc_omg_sim_ds.labels[:,0], gmm_sim_pred_2)\n",
    "print(\"score:\",score)"
   ]
  },
  {
   "cell_type": "code",
   "execution_count": 206,
   "metadata": {},
   "outputs": [
    {
     "name": "stdout",
     "output_type": "stream",
     "text": [
      "score: 0.013336356556542302\n"
     ]
    }
   ],
   "source": [
    "score = sklearn.metrics.silhouette_score(fnc_omg_sim_ds.features, gmm_sim_pred_2)\n",
    "print(\"score:\",score)"
   ]
  },
  {
   "cell_type": "code",
   "execution_count": 207,
   "metadata": {},
   "outputs": [
    {
     "data": {
      "text/plain": [
       "GaussianMixture(covariance_type='full', init_params='kmeans', max_iter=100,\n",
       "                means_init=None, n_components=5, n_init=1, precisions_init=None,\n",
       "                random_state=None, reg_covar=1e-06, tol=0.001, verbose=0,\n",
       "                verbose_interval=10, warm_start=False, weights_init=None)"
      ]
     },
     "execution_count": 207,
     "metadata": {},
     "output_type": "execute_result"
    }
   ],
   "source": [
    "nclusters=5\n",
    "gmm_sim = GaussianMixture(n_components=nclusters)\n",
    "gmm_sim.fit(fnc_omg_sim_ds.features)"
   ]
  },
  {
   "cell_type": "code",
   "execution_count": 208,
   "metadata": {},
   "outputs": [],
   "source": [
    "gmm_sim_pred = gmm_sim.predict(fnc_omg_sim_ds.features)"
   ]
  },
  {
   "cell_type": "code",
   "execution_count": 209,
   "metadata": {},
   "outputs": [
    {
     "name": "stdout",
     "output_type": "stream",
     "text": [
      "gmm_sim_pred: [0 0 2 ... 4 3 2]\n",
      "type(gmm_sim_pred): <class 'numpy.ndarray'>\n",
      "gmm_sim_pred.shape: (466944,)\n",
      "fnc_omg_sim_ds.labels.shape: (466944, 1)\n",
      "score: 4.694144869128984e-05\n"
     ]
    }
   ],
   "source": [
    "print(\"gmm_sim_pred:\",gmm_sim_pred)\n",
    "print(\"type(gmm_sim_pred):\",type(gmm_sim_pred))\n",
    "print(\"gmm_sim_pred.shape:\",gmm_sim_pred.shape)\n",
    "print(\"fnc_omg_sim_ds.labels.shape:\",fnc_omg_sim_ds.labels.shape)\n",
    "score = adjusted_rand_score(fnc_omg_sim_ds.labels[:,0], gmm_sim_pred)\n",
    "print(\"score:\",score)"
   ]
  },
  {
   "cell_type": "code",
   "execution_count": 210,
   "metadata": {},
   "outputs": [
    {
     "data": {
      "text/plain": [
       "GaussianMixture(covariance_type='full', init_params='kmeans', max_iter=100,\n",
       "                means_init=None, n_components=15, n_init=1,\n",
       "                precisions_init=None, random_state=None, reg_covar=1e-06,\n",
       "                tol=0.001, verbose=0, verbose_interval=10, warm_start=False,\n",
       "                weights_init=None)"
      ]
     },
     "execution_count": 210,
     "metadata": {},
     "output_type": "execute_result"
    }
   ],
   "source": [
    "nclusters=15\n",
    "gmm_sim_15 = GaussianMixture(n_components=nclusters)\n",
    "gmm_sim_15.fit(fnc_omg_sim_ds.features)"
   ]
  },
  {
   "cell_type": "code",
   "execution_count": 211,
   "metadata": {},
   "outputs": [
    {
     "name": "stdout",
     "output_type": "stream",
     "text": [
      "gmm_sim_pred_15: [ 6 10  8 ... 10  6 14]\n",
      "type(gmm_sim_pred_15): <class 'numpy.ndarray'>\n",
      "gmm_sim_pred_15.shape: (466944,)\n",
      "fnc_omg_sim_ds.labels.shape: (466944, 1)\n",
      "score_15: 1.300162729493868e-05\n"
     ]
    }
   ],
   "source": [
    "gmm_sim_pred_15 = gmm_sim_15.predict(fnc_omg_sim_ds.features)\n",
    "print(\"gmm_sim_pred_15:\",gmm_sim_pred_15)\n",
    "print(\"type(gmm_sim_pred_15):\",type(gmm_sim_pred_15))\n",
    "print(\"gmm_sim_pred_15.shape:\",gmm_sim_pred_15.shape)\n",
    "print(\"fnc_omg_sim_ds.labels.shape:\",fnc_omg_sim_ds.labels.shape)\n",
    "score_15 = adjusted_rand_score(fnc_omg_sim_ds.labels[:,0], gmm_sim_pred_15)\n",
    "print(\"score_15:\",score_15)"
   ]
  },
  {
   "cell_type": "code",
   "execution_count": 212,
   "metadata": {},
   "outputs": [
    {
     "data": {
      "text/plain": [
       "GaussianMixture(covariance_type='full', init_params='kmeans', max_iter=100,\n",
       "                means_init=None, n_components=25, n_init=1,\n",
       "                precisions_init=None, random_state=None, reg_covar=1e-06,\n",
       "                tol=0.001, verbose=0, verbose_interval=10, warm_start=False,\n",
       "                weights_init=None)"
      ]
     },
     "execution_count": 212,
     "metadata": {},
     "output_type": "execute_result"
    }
   ],
   "source": [
    "nclusters=25\n",
    "gmm_sim_25 = GaussianMixture(n_components=nclusters)\n",
    "gmm_sim_25.fit(fnc_omg_sim_ds.features)"
   ]
  },
  {
   "cell_type": "code",
   "execution_count": 213,
   "metadata": {},
   "outputs": [
    {
     "name": "stdout",
     "output_type": "stream",
     "text": [
      "gmm_sim_pred_25: [ 8  2  6 ... 22  4 11]\n",
      "type(gmm_sim_pred_25): <class 'numpy.ndarray'>\n",
      "gmm_sim_pred_25.shape: (466944,)\n",
      "fnc_omg_sim_ds.labels.shape: (466944, 1)\n",
      "score_25: 2.5309679063795965e-05\n"
     ]
    }
   ],
   "source": [
    "gmm_sim_pred_25 = gmm_sim_25.predict(fnc_omg_sim_ds.features)\n",
    "print(\"gmm_sim_pred_25:\",gmm_sim_pred_25)\n",
    "print(\"type(gmm_sim_pred_25):\",type(gmm_sim_pred_25))\n",
    "print(\"gmm_sim_pred_25.shape:\",gmm_sim_pred_25.shape)\n",
    "print(\"fnc_omg_sim_ds.labels.shape:\",fnc_omg_sim_ds.labels.shape)\n",
    "score_25 = adjusted_rand_score(fnc_omg_sim_ds.labels[:,0], gmm_sim_pred_25)\n",
    "print(\"score_25:\",score_25)"
   ]
  },
  {
   "cell_type": "code",
   "execution_count": 214,
   "metadata": {},
   "outputs": [
    {
     "data": {
      "text/plain": [
       "GaussianMixture(covariance_type='full', init_params='kmeans', max_iter=100,\n",
       "                means_init=None, n_components=35, n_init=1,\n",
       "                precisions_init=None, random_state=None, reg_covar=1e-06,\n",
       "                tol=0.001, verbose=0, verbose_interval=10, warm_start=False,\n",
       "                weights_init=None)"
      ]
     },
     "execution_count": 214,
     "metadata": {},
     "output_type": "execute_result"
    }
   ],
   "source": [
    "nclusters=35\n",
    "gmm_sim_35 = GaussianMixture(n_components=nclusters)\n",
    "gmm_sim_35.fit(fnc_omg_sim_ds.features)"
   ]
  },
  {
   "cell_type": "code",
   "execution_count": 215,
   "metadata": {},
   "outputs": [
    {
     "name": "stdout",
     "output_type": "stream",
     "text": [
      "gmm_sim_pred_35: [11  8 17 ... 32 19 14]\n",
      "type(gmm_sim_pred_35): <class 'numpy.ndarray'>\n",
      "gmm_sim_pred_35.shape: (466944,)\n",
      "fnc_omg_sim_ds.labels.shape: (466944, 1)\n",
      "score_35: 2.5820544719115612e-05\n"
     ]
    }
   ],
   "source": [
    "gmm_sim_pred_35 = gmm_sim_35.predict(fnc_omg_sim_ds.features)\n",
    "print(\"gmm_sim_pred_35:\",gmm_sim_pred_35)\n",
    "print(\"type(gmm_sim_pred_35):\",type(gmm_sim_pred_35))\n",
    "print(\"gmm_sim_pred_35.shape:\",gmm_sim_pred_35.shape)\n",
    "print(\"fnc_omg_sim_ds.labels.shape:\",fnc_omg_sim_ds.labels.shape)\n",
    "score_35 = adjusted_rand_score(fnc_omg_sim_ds.labels[:,0], gmm_sim_pred_35)\n",
    "print(\"score_35:\",score_35)"
   ]
  },
  {
   "cell_type": "code",
   "execution_count": 216,
   "metadata": {},
   "outputs": [
    {
     "name": "stdout",
     "output_type": "stream",
     "text": [
      "skl_moon_ds.features.shape: (10000, 2)\n",
      "skl_moon_ds.labels.shape: (10000, 1)\n",
      "skl_moon_ds.features: [[ 0.97609201  0.18095167]\n",
      " [ 0.38567065 -0.29911966]\n",
      " [ 0.63210545 -0.43652298]\n",
      " ...\n",
      " [-0.15820732  0.99691421]\n",
      " [ 0.2660406  -0.18557373]\n",
      " [ 0.8097791  -0.48901083]]\n",
      "skl_moon_ds.labels: [[0]\n",
      " [1]\n",
      " [1]\n",
      " ...\n",
      " [0]\n",
      " [1]\n",
      " [1]]\n"
     ]
    }
   ],
   "source": [
    "print(\"skl_moon_ds.features.shape:\",skl_moon_ds.features.shape)\n",
    "print(\"skl_moon_ds.labels.shape:\",skl_moon_ds.labels.shape)\n",
    "print(\"skl_moon_ds.features:\",skl_moon_ds.features)\n",
    "print(\"skl_moon_ds.labels:\",skl_moon_ds.labels)"
   ]
  },
  {
   "cell_type": "code",
   "execution_count": 217,
   "metadata": {},
   "outputs": [],
   "source": [
    "seed = 0\n",
    "nclusters = 2\n",
    "km = KMeans(n_clusters=nclusters, random_state=seed)\n",
    "km.fit(skl_moon_ds.features)\n",
    "y_cluster_kmeans = km.predict(skl_moon_ds.features)"
   ]
  },
  {
   "cell_type": "code",
   "execution_count": 218,
   "metadata": {},
   "outputs": [
    {
     "name": "stdout",
     "output_type": "stream",
     "text": [
      "score: 0.4936284250949965\n"
     ]
    }
   ],
   "source": [
    "score = sklearn.metrics.silhouette_score(skl_moon_ds.features, y_cluster_kmeans)\n",
    "print(\"score:\",score)"
   ]
  },
  {
   "cell_type": "code",
   "execution_count": 219,
   "metadata": {},
   "outputs": [
    {
     "name": "stdout",
     "output_type": "stream",
     "text": [
      "y_cluster_kmeans: [0 0 0 ... 1 1 0]\n",
      "type(y_cluster_kmeans): <class 'numpy.ndarray'>\n",
      "y_cluster_kmeans.shape: (10000,)\n",
      "skl_moon_ds.labels.shape: (10000, 1)\n",
      "score: 0.2563665892694464\n"
     ]
    }
   ],
   "source": [
    "print(\"y_cluster_kmeans:\",y_cluster_kmeans)\n",
    "print(\"type(y_cluster_kmeans):\",type(y_cluster_kmeans))\n",
    "print(\"y_cluster_kmeans.shape:\",y_cluster_kmeans.shape)\n",
    "print(\"skl_moon_ds.labels.shape:\",skl_moon_ds.labels.shape)\n",
    "score = adjusted_rand_score(skl_moon_ds.labels[:,0], y_cluster_kmeans)\n",
    "print(\"score:\",score)"
   ]
  },
  {
   "cell_type": "code",
   "execution_count": 220,
   "metadata": {},
   "outputs": [],
   "source": [
    "nclusters=2\n",
    "gmm_sim = GaussianMixture(covariance_type='full', init_params='kmeans', max_iter=100,\n",
    "                means_init=None, n_components=nclusters, n_init=1, precisions_init=None,\n",
    "                random_state=None, reg_covar=1e-06, tol=0.001, verbose=0,\n",
    "                verbose_interval=10, warm_start=False, weights_init=None)"
   ]
  },
  {
   "cell_type": "code",
   "execution_count": 221,
   "metadata": {},
   "outputs": [
    {
     "data": {
      "text/plain": [
       "GaussianMixture(covariance_type='full', init_params='kmeans', max_iter=100,\n",
       "                means_init=None, n_components=2, n_init=1, precisions_init=None,\n",
       "                random_state=None, reg_covar=1e-06, tol=0.001, verbose=0,\n",
       "                verbose_interval=10, warm_start=False, weights_init=None)"
      ]
     },
     "execution_count": 221,
     "metadata": {},
     "output_type": "execute_result"
    }
   ],
   "source": [
    "gmm_sim.fit(skl_moon_ds.features)"
   ]
  },
  {
   "cell_type": "code",
   "execution_count": 222,
   "metadata": {},
   "outputs": [],
   "source": [
    "gmm_sim_pred = gmm_sim.predict(skl_moon_ds.features)"
   ]
  },
  {
   "cell_type": "code",
   "execution_count": 223,
   "metadata": {},
   "outputs": [
    {
     "ename": "AttributeError",
     "evalue": "'str' object has no attribute 'silhouette_score'",
     "output_type": "error",
     "traceback": [
      "\u001b[0;31m---------------------------------------------------------------------------\u001b[0m",
      "\u001b[0;31mAttributeError\u001b[0m                            Traceback (most recent call last)",
      "\u001b[0;32m<ipython-input-223-1057143d28b8>\u001b[0m in \u001b[0;36m<module>\u001b[0;34m\u001b[0m\n\u001b[0;32m----> 1\u001b[0;31m \u001b[0mscore\u001b[0m \u001b[0;34m=\u001b[0m \u001b[0mmetrics\u001b[0m\u001b[0;34m.\u001b[0m\u001b[0msilhouette_score\u001b[0m\u001b[0;34m(\u001b[0m\u001b[0mskl_moon_ds\u001b[0m\u001b[0;34m.\u001b[0m\u001b[0mfeatures\u001b[0m\u001b[0;34m,\u001b[0m \u001b[0mgmm_sim_pred\u001b[0m\u001b[0;34m)\u001b[0m\u001b[0;34m\u001b[0m\u001b[0;34m\u001b[0m\u001b[0m\n\u001b[0m\u001b[1;32m      2\u001b[0m \u001b[0mprint\u001b[0m\u001b[0;34m(\u001b[0m\u001b[0;34m\"score:\"\u001b[0m\u001b[0;34m,\u001b[0m\u001b[0mscore\u001b[0m\u001b[0;34m)\u001b[0m\u001b[0;34m\u001b[0m\u001b[0;34m\u001b[0m\u001b[0m\n",
      "\u001b[0;31mAttributeError\u001b[0m: 'str' object has no attribute 'silhouette_score'"
     ]
    }
   ],
   "source": [
    "score = metrics.silhouette_score(skl_moon_ds.features, gmm_sim_pred)\n",
    "print(\"score:\",score)"
   ]
  },
  {
   "cell_type": "code",
   "execution_count": null,
   "metadata": {},
   "outputs": [],
   "source": [
    "print(\"gmm_sim_pred:\",gmm_sim_pred)\n",
    "print(\"type(gmm_sim_pred):\",type(gmm_sim_pred))\n",
    "print(\"gmm_sim_pred.shape:\",gmm_sim_pred.shape)\n",
    "print(\"skl_moon_ds.labels.shape:\",skl_moon_ds.labels.shape)\n",
    "score = adjusted_rand_score(skl_moon_ds.labels[:,0], gmm_sim_pred)\n",
    "print(\"score:\",score)"
   ]
  },
  {
   "cell_type": "code",
   "execution_count": null,
   "metadata": {},
   "outputs": [],
   "source": [
    "print(\"skl_iris_ds.features.shape:\",skl_iris_ds.features.shape)\n",
    "print(\"skl_iris_ds.labels.shape:\",skl_iris_ds.labels.shape)\n",
    "print(\"skl_iris_ds.features:\",skl_iris_ds.features)\n",
    "print(\"skl_iris_ds.labels:\",skl_iris_ds.labels)\n"
   ]
  },
  {
   "cell_type": "code",
   "execution_count": null,
   "metadata": {},
   "outputs": [],
   "source": [
    "seed = 0\n",
    "nclusters = 3\n",
    "km = KMeans(n_clusters=nclusters, random_state=seed)\n",
    "km.fit(skl_iris_ds.features)\n",
    "y_cluster_kmeans = km.predict(skl_iris_ds.features)"
   ]
  },
  {
   "cell_type": "code",
   "execution_count": null,
   "metadata": {},
   "outputs": [],
   "source": [
    "score = sklearn.metrics.silhouette_score(skl_iris_ds.features, y_cluster_kmeans)\n",
    "print(\"score:\",score)"
   ]
  },
  {
   "cell_type": "code",
   "execution_count": null,
   "metadata": {},
   "outputs": [],
   "source": [
    "print(\"y_cluster_kmeans:\",y_cluster_kmeans)\n",
    "print(\"type(y_cluster_kmeans):\",type(y_cluster_kmeans))\n",
    "print(\"y_cluster_kmeans.shape:\",y_cluster_kmeans.shape)\n",
    "print(\"skl_iris_ds.labels.shape:\",skl_iris_ds.labels.shape)\n",
    "score = adjusted_rand_score(skl_iris_ds.labels[:,0], y_cluster_kmeans)\n",
    "print(\"score:\",score)"
   ]
  },
  {
   "cell_type": "code",
   "execution_count": null,
   "metadata": {},
   "outputs": [],
   "source": [
    "nclusters=3\n",
    "gmm_sim = GaussianMixture(covariance_type='full', init_params='kmeans', max_iter=100,\n",
    "                means_init=None, n_components=nclusters, n_init=1, precisions_init=None,\n",
    "                random_state=None, reg_covar=1e-06, tol=0.001, verbose=0,\n",
    "                verbose_interval=10, warm_start=False, weights_init=None)"
   ]
  },
  {
   "cell_type": "code",
   "execution_count": null,
   "metadata": {},
   "outputs": [],
   "source": [
    "gmm_sim.fit(skl_iris_ds.features)"
   ]
  },
  {
   "cell_type": "code",
   "execution_count": null,
   "metadata": {},
   "outputs": [],
   "source": [
    "gmm_sim_pred = gmm_sim.predict(skl_iris_ds.features)"
   ]
  },
  {
   "cell_type": "code",
   "execution_count": null,
   "metadata": {},
   "outputs": [],
   "source": [
    "score = metrics.silhouette_score(skl_iris_ds.features, gmm_sim_pred)\n",
    "print(\"score:\",score)"
   ]
  },
  {
   "cell_type": "code",
   "execution_count": null,
   "metadata": {},
   "outputs": [],
   "source": [
    "print(\"gmm_sim_pred:\",gmm_sim_pred)\n",
    "print(\"type(gmm_sim_pred):\",type(gmm_sim_pred))\n",
    "print(\"gmm_sim_pred.shape:\",gmm_sim_pred.shape)\n",
    "print(\"fnc_omg_sim_ds.labels.shape:\",skl_iris_ds.labels.shape)\n",
    "score = adjusted_rand_score(skl_iris_ds.labels[:,0], gmm_sim_pred)\n",
    "print(\"score:\",score)"
   ]
  },
  {
   "cell_type": "code",
   "execution_count": null,
   "metadata": {},
   "outputs": [],
   "source": [
    "print(\"skl_blobs_ds.features.shape:\",skl_blobs_ds.features.shape)\n",
    "print(\"skl_blobs_ds.labels.shape:\",skl_blobs_ds.labels.shape)\n",
    "print(\"skl_blobs_ds.features:\",skl_blobs_ds.features)\n",
    "print(\"skl_blobs_ds.labels:\",skl_blobs_ds.labels)"
   ]
  },
  {
   "cell_type": "code",
   "execution_count": null,
   "metadata": {},
   "outputs": [],
   "source": [
    "seed = 0\n",
    "nclusters = 3\n",
    "km = KMeans(n_clusters=nclusters, random_state=seed)\n",
    "km.fit(skl_blobs_ds.features)\n",
    "y_cluster_kmeans = km.predict(skl_blobs_ds.features)"
   ]
  },
  {
   "cell_type": "code",
   "execution_count": null,
   "metadata": {},
   "outputs": [],
   "source": [
    "score = sklearn.metrics.silhouette_score(skl_blobs_ds.features, y_cluster_kmeans)\n",
    "print(\"score:\",score)"
   ]
  },
  {
   "cell_type": "code",
   "execution_count": null,
   "metadata": {},
   "outputs": [],
   "source": [
    "print(\"y_cluster_kmeans:\",y_cluster_kmeans)\n",
    "print(\"type(y_cluster_kmeans):\",type(y_cluster_kmeans))\n",
    "print(\"y_cluster_kmeans.shape:\",y_cluster_kmeans.shape)\n",
    "print(\"skl_iris_ds.labels.shape:\",skl_blobs_ds.labels.shape)\n",
    "score = adjusted_rand_score(skl_blobs_ds.labels[:,0], y_cluster_kmeans)\n",
    "print(\"score:\",score)"
   ]
  },
  {
   "cell_type": "code",
   "execution_count": null,
   "metadata": {},
   "outputs": [],
   "source": [
    "nclusters=3\n",
    "gmm_sim = GaussianMixture(covariance_type='full', init_params='kmeans', max_iter=100,\n",
    "                means_init=None, n_components=nclusters, n_init=1, precisions_init=None,\n",
    "                random_state=None, reg_covar=1e-06, tol=0.001, verbose=0,\n",
    "                verbose_interval=10, warm_start=False, weights_init=None)"
   ]
  },
  {
   "cell_type": "code",
   "execution_count": null,
   "metadata": {},
   "outputs": [],
   "source": [
    "gmm_sim.fit(skl_blobs_ds.features)"
   ]
  },
  {
   "cell_type": "code",
   "execution_count": null,
   "metadata": {},
   "outputs": [],
   "source": [
    "gmm_sim_pred = gmm_sim.predict(skl_blobs_ds.features)"
   ]
  },
  {
   "cell_type": "code",
   "execution_count": null,
   "metadata": {},
   "outputs": [],
   "source": [
    "score = metrics.silhouette_score(skl_blobs_ds.features, gmm_sim_pred)\n",
    "print(\"score:\",score)"
   ]
  },
  {
   "cell_type": "code",
   "execution_count": null,
   "metadata": {},
   "outputs": [],
   "source": [
    "print(\"gmm_sim_pred:\",gmm_sim_pred)\n",
    "print(\"type(gmm_sim_pred):\",type(gmm_sim_pred))\n",
    "print(\"gmm_sim_pred.shape:\",gmm_sim_pred.shape)\n",
    "print(\"fnc_omg_sim_ds.labels.shape:\",skl_blobs_ds.labels.shape)\n",
    "score = adjusted_rand_score(skl_blobs_ds.labels[:,0], gmm_sim_pred)\n",
    "print(\"score:\",score)"
   ]
  },
  {
   "cell_type": "code",
   "execution_count": null,
   "metadata": {},
   "outputs": [],
   "source": [
    "print(\"skl_class_ds.skl_class_ds.shape:\",skl_class_ds.features.shape)\n",
    "print(\"skl_class_ds.skl_class_ds.shape:\",skl_class_ds.labels.shape)\n",
    "print(\"skl_class_ds.features:\",skl_class_ds.features)\n",
    "print(\"skl_class_ds.labels:\",skl_class_ds.labels)"
   ]
  },
  {
   "cell_type": "code",
   "execution_count": null,
   "metadata": {},
   "outputs": [],
   "source": [
    "seed = 0\n",
    "nclusters = 2\n",
    "km = KMeans(n_clusters=nclusters, random_state=seed)\n",
    "km.fit(skl_class_ds.features)\n",
    "y_cluster_kmeans = km.predict(skl_class_ds.features)"
   ]
  },
  {
   "cell_type": "code",
   "execution_count": null,
   "metadata": {},
   "outputs": [],
   "source": [
    "score = sklearn.metrics.silhouette_score(skl_class_ds.features, y_cluster_kmeans)\n",
    "print(\"score:\",score)"
   ]
  },
  {
   "cell_type": "code",
   "execution_count": null,
   "metadata": {},
   "outputs": [],
   "source": [
    "print(\"y_cluster_kmeans:\",y_cluster_kmeans)\n",
    "print(\"type(y_cluster_kmeans):\",type(y_cluster_kmeans))\n",
    "print(\"y_cluster_kmeans.shape:\",y_cluster_kmeans.shape)\n",
    "print(\"skl_class_ds.labels.shape:\",skl_class_ds.labels.shape)\n",
    "score = adjusted_rand_score(skl_class_ds.labels[:,0], y_cluster_kmeans)\n",
    "print(\"score:\",score)"
   ]
  },
  {
   "cell_type": "code",
   "execution_count": null,
   "metadata": {},
   "outputs": [],
   "source": [
    "nclusters=2\n",
    "gmm_sim = GaussianMixture(covariance_type='full', init_params='kmeans', max_iter=100,\n",
    "                means_init=None, n_components=nclusters, n_init=1, precisions_init=None,\n",
    "                random_state=None, reg_covar=1e-06, tol=0.001, verbose=0,\n",
    "                verbose_interval=10, warm_start=False, weights_init=None)"
   ]
  },
  {
   "cell_type": "code",
   "execution_count": null,
   "metadata": {},
   "outputs": [],
   "source": [
    "gmm_sim.fit(skl_class_ds.features)"
   ]
  },
  {
   "cell_type": "code",
   "execution_count": null,
   "metadata": {},
   "outputs": [],
   "source": [
    "gmm_sim_pred = gmm_sim.predict(skl_class_ds.features)"
   ]
  },
  {
   "cell_type": "code",
   "execution_count": null,
   "metadata": {},
   "outputs": [],
   "source": [
    "score = metrics.silhouette_score(skl_class_ds.features, gmm_sim_pred)\n",
    "print(\"score:\",score)"
   ]
  },
  {
   "cell_type": "code",
   "execution_count": null,
   "metadata": {},
   "outputs": [],
   "source": [
    "print(\"gmm_sim_pred:\",gmm_sim_pred)\n",
    "print(\"type(gmm_sim_pred):\",type(gmm_sim_pred))\n",
    "print(\"gmm_sim_pred.shape:\",gmm_sim_pred.shape)\n",
    "print(\"skl_class_ds.labels.shape:\",skl_class_ds.labels.shape)\n",
    "score = adjusted_rand_score(skl_class_ds.labels[:,0], gmm_sim_pred)\n",
    "print(\"score:\",score)"
   ]
  },
  {
   "cell_type": "code",
   "execution_count": null,
   "metadata": {},
   "outputs": [],
   "source": [
    "print(\"skl_mnist_ds.features.shape:\",skl_mnist_ds.features.shape)\n",
    "print(\"skl_mnist_ds.labels.shape:\",skl_mnist_ds.labels.shape)\n",
    "print(\"skl_mnist_ds.features:\",skl_mnist_ds.features)\n",
    "print(\"skl_mnist_ds.labels:\",skl_mnist_ds.labels)"
   ]
  },
  {
   "cell_type": "code",
   "execution_count": null,
   "metadata": {},
   "outputs": [],
   "source": [
    "seed = 0\n",
    "nclusters = 10\n",
    "km = KMeans(n_clusters=nclusters, random_state=seed)\n",
    "km.fit(skl_mnist_ds.features)\n",
    "y_cluster_kmeans = km.predict(skl_mnist_ds.features)"
   ]
  },
  {
   "cell_type": "code",
   "execution_count": null,
   "metadata": {},
   "outputs": [],
   "source": [
    "score = sklearn.metrics.silhouette_score(skl_mnist_ds.features, y_cluster_kmeans)\n",
    "print(\"score:\",score)"
   ]
  },
  {
   "cell_type": "code",
   "execution_count": null,
   "metadata": {},
   "outputs": [],
   "source": [
    "print(\"y_cluster_kmeans:\",y_cluster_kmeans)\n",
    "print(\"type(y_cluster_kmeans):\",type(y_cluster_kmeans))\n",
    "print(\"y_cluster_kmeans.shape:\",y_cluster_kmeans.shape)\n",
    "print(\"skl_mnist_ds.labels.shape:\",skl_mnist_ds.labels.shape)\n",
    "score = adjusted_rand_score(skl_mnist_ds.labels[:,0], y_cluster_kmeans)\n",
    "print(\"score:\",score)"
   ]
  },
  {
   "cell_type": "code",
   "execution_count": null,
   "metadata": {},
   "outputs": [],
   "source": [
    "nclusters=10\n",
    "gmm_sim = GaussianMixture(covariance_type='full', init_params='kmeans', max_iter=100,\n",
    "                means_init=None, n_components=nclusters, n_init=1, precisions_init=None,\n",
    "                random_state=None, reg_covar=1e-06, tol=0.001, verbose=0,\n",
    "                verbose_interval=10, warm_start=False, weights_init=None)"
   ]
  },
  {
   "cell_type": "code",
   "execution_count": null,
   "metadata": {},
   "outputs": [],
   "source": [
    "gmm_sim.fit(skl_mnist_ds.features)"
   ]
  },
  {
   "cell_type": "code",
   "execution_count": null,
   "metadata": {},
   "outputs": [],
   "source": [
    "gmm_sim_pred = gmm_sim.predict(skl_mnist_ds.features)"
   ]
  },
  {
   "cell_type": "code",
   "execution_count": null,
   "metadata": {},
   "outputs": [],
   "source": [
    "score = metrics.silhouette_score(skl_mnist_ds.features, gmm_sim_pred)\n",
    "print(\"score:\",score)"
   ]
  },
  {
   "cell_type": "code",
   "execution_count": null,
   "metadata": {},
   "outputs": [],
   "source": [
    "print(\"gmm_sim_pred:\",gmm_sim_pred)\n",
    "print(\"type(gmm_sim_pred):\",type(gmm_sim_pred))\n",
    "print(\"gmm_sim_pred.shape:\",gmm_sim_pred.shape)\n",
    "print(\"skl_mnist_ds.labels.shape:\",skl_mnist_ds.labels.shape)\n",
    "score = adjusted_rand_score(skl_mnist_ds.labels[:,0], gmm_sim_pred)\n",
    "print(\"score:\",score)"
   ]
  },
  {
   "cell_type": "code",
   "execution_count": null,
   "metadata": {},
   "outputs": [],
   "source": []
  }
 ],
 "metadata": {
  "anaconda-cloud": {},
  "kernelspec": {
   "display_name": "Python 3",
   "language": "python",
   "name": "python3"
  },
  "language_info": {
   "codemirror_mode": {
    "name": "ipython",
    "version": 3
   },
   "file_extension": ".py",
   "mimetype": "text/x-python",
   "name": "python",
   "nbconvert_exporter": "python",
   "pygments_lexer": "ipython3",
   "version": "3.7.6"
  }
 },
 "nbformat": 4,
 "nbformat_minor": 1
}
